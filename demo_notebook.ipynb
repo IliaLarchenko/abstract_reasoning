{
 "cells": [
  {
   "cell_type": "markdown",
   "metadata": {},
   "source": [
    "# Demo notebook"
   ]
  },
  {
   "cell_type": "markdown",
   "metadata": {},
   "source": [
    "This notebook just demostrates how to use my solution to solve abstract reasoning tasks"
   ]
  },
  {
   "cell_type": "code",
   "execution_count": null,
   "metadata": {
    "Collapsed": "false"
   },
   "outputs": [],
   "source": [
    "%load_ext autoreload\n",
    "%autoreload 2"
   ]
  },
  {
   "cell_type": "code",
   "execution_count": null,
   "metadata": {
    "Collapsed": "false"
   },
   "outputs": [],
   "source": [
    "import os\n",
    "\n",
    "from src.predictors import *\n",
    "from src.submission_utils import run_parallel"
   ]
  },
  {
   "cell_type": "code",
   "execution_count": null,
   "metadata": {
    "Collapsed": "false"
   },
   "outputs": [],
   "source": [
    "TRAIN_PATH = 'data/training'\n",
    "VAL_PATH = 'data/evaluation'"
   ]
  },
  {
   "cell_type": "code",
   "execution_count": null,
   "metadata": {},
   "outputs": [],
   "source": [
    "train_files = [x for x in os.listdir(TRAIN_PATH) if x[-4:]=='json']\n",
    "valid_files = [x for x in os.listdir(VAL_PATH) if x[-4:]=='json']"
   ]
  },
  {
   "cell_type": "code",
   "execution_count": null,
   "metadata": {
    "Collapsed": "false"
   },
   "outputs": [],
   "source": [
    "predictors =[\n",
    "    Fill({}),\n",
    "    Pattern({}),\n",
    "    Colors({}),\n",
    "    EliminateColor({}),\n",
    "    EliminateDuplicates({}),\n",
    "    ConnectDotsAllColors({}),\n",
    "    ReconstructMosaic({}),\n",
    "    ReconstructMosaicRRExtract({}),\n",
    "    FillLines({}),\n",
    "    \n",
    "             ]            \n",
    "        \n",
    "preprocess_params = [\n",
    "    \"initial\",\n",
    "]\n",
    "\n",
    "color_params = [\"coverage\", \"unique\", \"corners\", \"top\", \"grid\"]"
   ]
  },
  {
   "cell_type": "code",
   "execution_count": null,
   "metadata": {
    "Collapsed": "false"
   },
   "outputs": [],
   "source": [
    "result = run_parallel(train_files, \n",
    "             TRAIN_PATH, \n",
    "             predictors, \n",
    "             preprocess_params, \n",
    "             color_params, \n",
    "             timeout = 1200,\n",
    "             processes = 20,\n",
    "             max_memory_by_process = 1.4e+10\n",
    "            )\n",
    "len(set([x['output_id'][:-2] for x in result]))"
   ]
  },
  {
   "cell_type": "code",
   "execution_count": null,
   "metadata": {
    "Collapsed": "false"
   },
   "outputs": [],
   "source": [
    "result = run_parallel(valid_files, \n",
    "             VAL_PATH, \n",
    "             predictors, \n",
    "             preprocess_params, \n",
    "             color_params, \n",
    "             timeout = 1200, \n",
    "             processes = 20,\n",
    "             max_memory_by_process = 1.4e+10\n",
    "            )\n",
    "len(set([x['output_id'][:-2] for x in result]))"
   ]
  },
  {
   "cell_type": "markdown",
   "metadata": {},
   "source": [
    "[Source repository](https://github.com/IliaLarchenko/abstract_reasoning)"
   ]
  }
 ],
 "metadata": {
  "kernelspec": {
   "display_name": "Python 3",
   "language": "python",
   "name": "python3"
  },
  "language_info": {
   "codemirror_mode": {
    "name": "ipython",
    "version": 3
   },
   "file_extension": ".py",
   "mimetype": "text/x-python",
   "name": "python",
   "nbconvert_exporter": "python",
   "pygments_lexer": "ipython3",
   "version": "3.7.3"
  }
 },
 "nbformat": 4,
 "nbformat_minor": 4
}
